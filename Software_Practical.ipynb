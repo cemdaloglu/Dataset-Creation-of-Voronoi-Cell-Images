{
 "cells": [
  {
   "cell_type": "code",
   "execution_count": 1,
   "metadata": {},
   "outputs": [
    {
     "name": "stderr",
     "output_type": "stream",
     "text": [
      "C:\\Users\\CEM\\miniconda3\\lib\\site-packages\\torchvision\\io\\image.py:11: UserWarning: Failed to load image Python extension: Could not find module 'C:\\Users\\CEM\\miniconda3\\Lib\\site-packages\\torchvision\\image.pyd' (or one of its dependencies). Try using the full path with constructor syntax.\n",
      "  warn(f\"Failed to load image Python extension: {e}\")\n"
     ]
    }
   ],
   "source": [
    "import matplotlib.pyplot as plt\n",
    "import numpy as np\n",
    "from scipy.spatial import Voronoi, voronoi_plot_2d\n",
    "import random\n",
    "import sys\n",
    "import torch\n",
    "import cv2\n",
    "import torchvision.transforms as transforms\n",
    "from geovoronoi import voronoi_regions_from_coords\n",
    "from shapely.geometry import Polygon, mapping\n",
    "from shapely.ops import cascaded_union, unary_union\n",
    "import geopandas as gpd\n",
    "from geovoronoi.plotting import subplot_for_map, plot_voronoi_polys_with_points_in_area, plot_line, plot_polygon_collection_with_color, plot_voronoi_polys, plot_points"
   ]
  },
  {
   "cell_type": "code",
   "execution_count": null,
   "metadata": {},
   "outputs": [],
   "source": [
    "#print(region_polys[0])\n",
    "image = cv2.imread('Image 1.png')\n",
    "plt.imshow(image)"
   ]
  },
  {
   "cell_type": "code",
   "execution_count": 2,
   "metadata": {},
   "outputs": [],
   "source": [
    "#!{sys.executable} -m pip install torchvision\n",
    "#!conda install --yes --prefix {sys.prefix} pytorch torchvision -c pytorch"
   ]
  },
  {
   "cell_type": "code",
   "execution_count": 3,
   "metadata": {},
   "outputs": [],
   "source": [
    "def vor_reg_creator(img_height, img_width, coords):\n",
    "    area_max_lon = img_width\n",
    "    area_min_lon = 0\n",
    "    area_max_lat = img_height\n",
    "    area_min_lat = 0\n",
    "\n",
    "    lat_point_list = [area_min_lat, area_max_lat,area_max_lat,area_min_lat]\n",
    "    lon_point_list = [area_min_lon, area_min_lon, area_max_lon, area_max_lon]\n",
    "\n",
    "    polygon_geom = Polygon(zip(lon_point_list, lat_point_list))\n",
    "    boundary = gpd.GeoDataFrame()\n",
    "    boundary = boundary.append({'geometry': polygon_geom}, ignore_index=True)\n",
    "\n",
    "    boundary.crs = {'init' :'epsg:3395'}\n",
    "    boundary_shape = unary_union(boundary.geometry)\n",
    "    \n",
    "    region_polys, region_pts = voronoi_regions_from_coords(np.array(tuple(coords)), boundary_shape)\n",
    "    return region_polys, region_pts, boundary_shape"
   ]
  },
  {
   "cell_type": "code",
   "execution_count": 4,
   "metadata": {},
   "outputs": [],
   "source": [
    "def vor_plotting(coords, rand_point_no, region_polys, boundary_shape, img_width, img_height, line_width, line_color, img_no):\n",
    "    fig, ax = subplot_for_map(figsize=(img_width/120, img_height/120))\n",
    "    crds = np.array(tuple(coords))\n",
    "    for point_no in range(rand_point_no):\n",
    "        points = []\n",
    "        for p_idx in range(len(region_polys[point_no].exterior.coords.xy[0])):\n",
    "            points.append([region_polys[point_no].exterior.coords.xy[0][p_idx], region_polys[point_no].exterior.coords.xy[1][p_idx]])\n",
    "        points = np.array(tuple(points))\n",
    "        plot_line(ax, points, linewidth=line_width, color=line_color)\n",
    "    plot_voronoi_polys_with_points_in_area(ax, boundary_shape, region_polys, crds, points_color='white', voronoi_color='white', voronoi_edgecolor='blue')\n",
    "    plt.gca().set_axis_off()\n",
    "    plt.subplots_adjust(top = 1, bottom = 0, right = 1, left = 0, \n",
    "            hspace = 0, wspace = 0)\n",
    "    plt.margins(0,0)\n",
    "    plt.gca().xaxis.set_major_locator(plt.NullLocator())\n",
    "    plt.gca().yaxis.set_major_locator(plt.NullLocator())\n",
    "    plt.savefig('Image {}'.format(img_no+1)+'.png', dpi=120, format='png', bbox_inches='tight', pad_inches=0)\n",
    "    plt.close()"
   ]
  },
  {
   "cell_type": "code",
   "execution_count": null,
   "metadata": {},
   "outputs": [],
   "source": [
    "def vor_plotting_rgb(coords, rand_point_no, region_polys, boundary_shape, img_width, img_height, line_width, line_color, img_no):\n",
    "    fig, ax = subplot_for_map(figsize=(img_width/120, img_height/120))\n",
    "    crds = np.array(tuple(coords))\n",
    "    for point_no in range(rand_point_no):\n",
    "        points = []\n",
    "        for p_idx in range(len(region_polys[point_no].exterior.coords.xy[0])):\n",
    "            points.append([region_polys[point_no].exterior.coords.xy[0][p_idx], region_polys[point_no].exterior.coords.xy[1][p_idx]])\n",
    "        points = np.array(tuple(points))\n",
    "        plot_line(ax, points, linewidth=line_width, color=line_color)\n",
    "    rand_color = random.sample(list(matplotlib.colors.CSS4_COLORS), k=rand_point_no)\n",
    "    for point_no in range(rand_point_no):\n",
    "        plot_polygon_collection_with_color(ax, [region_polys[point_no]], color=rand_color[point_no])\n",
    "    plt.gca().set_axis_off()\n",
    "    plt.subplots_adjust(top = 1, bottom = 0, right = 1, left = 0, hspace = 0, wspace = 0)\n",
    "    plt.margins(0,0)\n",
    "    plt.gca().xaxis.set_major_locator(plt.NullLocator())\n",
    "    plt.gca().yaxis.set_major_locator(plt.NullLocator())\n",
    "    plt.savefig('Image_rgb {}'.format(img_no+1)+'.png', dpi=120, format='png', bbox_inches='tight', pad_inches=0)\n",
    "    plt.close()"
   ]
  },
  {
   "cell_type": "code",
   "execution_count": 5,
   "metadata": {},
   "outputs": [],
   "source": [
    "def vor_img_creator_trial(total_img, rand_point_no, img_height, img_width):\n",
    "    for img_no in range(total_img):\n",
    "        vor_arr = []\n",
    "        for point_no in range(rand_point_no):\n",
    "            y_axis = random.uniform(0.0, img_height)\n",
    "            x_axis = random.uniform(0.0, img_width)\n",
    "            vor_arr.append([x_axis, y_axis])\n",
    "        vor = Voronoi(vor_arr)\n",
    "        fig = voronoi_plot_2d(vor)\n",
    "        plt.title('Image {}'.format(img_no))\n",
    "        plt.xlim(0, img_width)\n",
    "        plt.ylim(0, img_height)\n",
    "        plt.savefig('Image {}'.format(img_no)+'.png')\n",
    "        plt.close()"
   ]
  },
  {
   "cell_type": "code",
   "execution_count": 6,
   "metadata": {},
   "outputs": [],
   "source": [
    "def vor_bw_img_creator(total_img, rand_point_no, img_height, img_width, line_width, line_color):\n",
    "    for img_no in range(total_img):\n",
    "        coords = []\n",
    "        for point_no in range(rand_point_no):\n",
    "            y_axis = random.uniform(0.0, img_height)\n",
    "            x_axis = random.uniform(0.0, img_width)\n",
    "            coords.append([x_axis, y_axis])\n",
    "        region_polys, region_pts, boundary_shape = vor_reg_creator(img_height, img_width, coords)\n",
    "        vor_plotting(coords, rand_point_no, region_polys, boundary_shape, img_width, img_height, line_width, line_color, img_no)"
   ]
  },
  {
   "cell_type": "code",
   "execution_count": null,
   "metadata": {},
   "outputs": [],
   "source": [
    "def vor_rgb_img_creator(total_img, rand_point_no, img_height, img_width, line_width, line_color):\n",
    "    for img_no in range(total_img):\n",
    "        coords = []\n",
    "        for point_no in range(rand_point_no):\n",
    "            y_axis = random.uniform(0.0, img_height)\n",
    "            x_axis = random.uniform(0.0, img_width)\n",
    "            coords.append([x_axis, y_axis])\n",
    "        region_polys, region_pts, boundary_shape = vor_reg_creator(img_height, img_width, coords)\n",
    "        vor_plotting_rgb(coords, rand_point_no, region_polys, boundary_shape, img_width, img_height, line_width, line_color, img_no)"
   ]
  },
  {
   "cell_type": "code",
   "execution_count": null,
   "metadata": {},
   "outputs": [],
   "source": [
    "vor_bw_img_creator(3, 8, 300, 450, 2, 'black')\n",
    "vor_rgb_img_creator(5, 15, 400, 600, 0, 'black')"
   ]
  },
  {
   "cell_type": "code",
   "execution_count": 7,
   "metadata": {},
   "outputs": [],
   "source": [
    "def img_to_tensor_bw(img, img_height, img_width):\n",
    "    image = cv2.imread(img)\n",
    "    image = cv2.cvtColor(image, cv2.COLOR_RGB2GRAY).reshape(img_width, img_height, 1)\n",
    "    transform = transforms.Compose([transforms.ToTensor()])\n",
    "    tensor = transform(image)\n",
    "    return tensor"
   ]
  },
  {
   "cell_type": "code",
   "execution_count": null,
   "metadata": {},
   "outputs": [],
   "source": [
    "def img_to_tensor_colored(img, img_height, img_width):\n",
    "    image = cv2.imread(img)\n",
    "    image = image.reshape(img_width, img_height, 3)\n",
    "    transform = transforms.Compose([transforms.ToTensor()])\n",
    "    tensor = transform(image)\n",
    "    return tensor"
   ]
  },
  {
   "cell_type": "code",
   "execution_count": 8,
   "metadata": {},
   "outputs": [],
   "source": [
    "def tensor_out_bw(total_img, img_height, img_width):\n",
    "    output = img_to_tensor_bw('Image {}'.format(1)+'.png', img_height, img_width)\n",
    "    for idx in range(total_img-1):\n",
    "        output = torch.cat((output, img_to_tensor_bw('Image {}'.format(idx+2)+'.png', img_height, img_width)))\n",
    "    output = output.reshape(total_img, 1, img_width, img_height)\n",
    "    return output"
   ]
  },
  {
   "cell_type": "code",
   "execution_count": null,
   "metadata": {},
   "outputs": [],
   "source": [
    "def tensor_out_colored(total_img, img_height, img_width):\n",
    "    output = img_to_tensor_colored('Image_rgb {}'.format(1)+'.png', img_height, img_width)\n",
    "    for idx in range(total_img-1):\n",
    "        output = torch.cat((output, img_to_tensor_colored('Image_rgb {}'.format(idx+2)+'.png', img_height, img_width)))\n",
    "    output = output.reshape(total_img, 3, img_width, img_height)\n",
    "    return output"
   ]
  },
  {
   "cell_type": "code",
   "execution_count": 9,
   "metadata": {},
   "outputs": [
    {
     "name": "stdout",
     "output_type": "stream",
     "text": [
      "torch.Size([3, 1, 450, 300])\n"
     ]
    }
   ],
   "source": [
    "output = tensor_out_bw(3, 300, 450)\n",
    "print(output.shape)"
   ]
  },
  {
   "cell_type": "code",
   "execution_count": null,
   "metadata": {},
   "outputs": [],
   "source": [
    "output = tensor_out_colored(5, 400, 600)\n",
    "print(output.shape)"
   ]
  },
  {
   "cell_type": "code",
   "execution_count": null,
   "metadata": {},
   "outputs": [],
   "source": []
  }
 ],
 "metadata": {
  "kernelspec": {
   "display_name": "Python 3 (ipykernel)",
   "language": "python",
   "name": "python3"
  },
  "language_info": {
   "codemirror_mode": {
    "name": "ipython",
    "version": 3
   },
   "file_extension": ".py",
   "mimetype": "text/x-python",
   "name": "python",
   "nbconvert_exporter": "python",
   "pygments_lexer": "ipython3",
   "version": "3.8.13"
  }
 },
 "nbformat": 4,
 "nbformat_minor": 4
}
