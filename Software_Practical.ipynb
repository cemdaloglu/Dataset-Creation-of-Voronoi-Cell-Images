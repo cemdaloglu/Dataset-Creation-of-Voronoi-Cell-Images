{
 "cells": [
  {
   "cell_type": "code",
   "execution_count": 86,
   "metadata": {},
   "outputs": [],
   "source": [
    "import matplotlib.pyplot as plt\n",
    "import numpy as np\n",
    "from scipy.spatial import Voronoi, voronoi_plot_2d\n",
    "import random\n",
    "import sys\n",
    "from geovoronoi import voronoi_regions_from_coords\n",
    "from shapely.geometry import Polygon\n",
    "from shapely.ops import cascaded_union, unary_union\n",
    "import geopandas as gpd\n",
    "from geovoronoi.plotting import subplot_for_map, plot_voronoi_polys_with_points_in_area"
   ]
  },
  {
   "cell_type": "code",
   "execution_count": 76,
   "metadata": {},
   "outputs": [],
   "source": [
    "#!{sys.executable} -m pip install descartes"
   ]
  },
  {
   "cell_type": "code",
   "execution_count": 77,
   "metadata": {},
   "outputs": [],
   "source": [
    "def vor_img_creator(total_img, rand_point_no, img_height, img_width):\n",
    "    for img_no in range(total_img):\n",
    "        vor_arr = []\n",
    "        for point_no in range(rand_point_no):\n",
    "            y_axis = random.uniform(0.0, img_height)\n",
    "            x_axis = random.uniform(0.0, img_width)\n",
    "            vor_arr.append([x_axis, y_axis])\n",
    "        vor = Voronoi(vor_arr)\n",
    "        fig = voronoi_plot_2d(vor)\n",
    "        plt.title('Image {}'.format(img_no))\n",
    "        plt.xlim(0, img_width)\n",
    "        plt.ylim(0, img_height)\n",
    "        plt.savefig('Image {}'.format(img_no)+'.png')\n",
    "        plt.close()"
   ]
  },
  {
   "cell_type": "code",
   "execution_count": 52,
   "metadata": {},
   "outputs": [],
   "source": [
    "vor_img_creator(5, 8, 10, 20)\n",
    "rand_point_no = 8\n",
    "img_height = 10\n",
    "img_width = 20"
   ]
  },
  {
   "cell_type": "code",
   "execution_count": 78,
   "metadata": {},
   "outputs": [],
   "source": [
    "coords = []\n",
    "for point_no in range(rand_point_no):\n",
    "    y_axis = random.uniform(0.0, img_height)\n",
    "    x_axis = random.uniform(0.0, img_width)\n",
    "    coords.append([x_axis, y_axis])"
   ]
  },
  {
   "cell_type": "code",
   "execution_count": 87,
   "metadata": {},
   "outputs": [],
   "source": [
    "area_max_lon = 20\n",
    "area_min_lon = 0\n",
    "area_max_lat = 10\n",
    "area_min_lat = 0\n",
    "\n",
    "lat_point_list = [area_min_lat, area_max_lat,area_max_lat,area_min_lat]\n",
    "lon_point_list = [area_min_lon, area_min_lon, area_max_lon, area_max_lon]\n",
    "\n",
    "polygon_geom = Polygon(zip(lon_point_list, lat_point_list))\n",
    "boundary = gpd.GeoDataFrame()\n",
    "boundary = boundary.append({'geometry': polygon_geom}, ignore_index=True)\n",
    "\n",
    "boundary.crs = {'init' :'epsg:3395'}\n",
    "boundary_shape = unary_union(boundary.geometry)\n",
    "\n",
    "region_polys, region_pts = voronoi_regions_from_coords(np.array(coords), boundary_shape)"
   ]
  },
  {
   "cell_type": "code",
   "execution_count": 88,
   "metadata": {},
   "outputs": [
    {
     "data": {
      "image/png": "[encoded data removed]",
      "text/plain": [
       "<Figure size 432x288 with 1 Axes>"
      ]
     },
     "metadata": {
      "needs_background": "light"
     },
     "output_type": "display_data"
    }
   ],
   "source": [
    "fig, ax = subplot_for_map()\n",
    "plot_voronoi_polys_with_points_in_area(ax, boundary_shape, region_polys, np.array(coords), region_pts)\n",
    "ax.set_title('Voronoi regions')\n",
    "plt.tight_layout()\n",
    "plt.show()"
   ]
  },
  {
   "cell_type": "code",
   "execution_count": null,
   "metadata": {},
   "outputs": [],
   "source": []
  }
 ],
 "metadata": {
  "kernelspec": {
   "display_name": "Python 3",
   "language": "python",
   "name": "python3"
  },
  "language_info": {
   "codemirror_mode": {
    "name": "ipython",
    "version": 3
   },
   "file_extension": ".py",
   "mimetype": "text/x-python",
   "name": "python",
   "nbconvert_exporter": "python",
   "pygments_lexer": "ipython3",
   "version": "3.8.5"
  }
 },
 "nbformat": 4,
 "nbformat_minor": 4
}
