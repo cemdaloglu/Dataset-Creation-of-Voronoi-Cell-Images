{
 "cells": [
  {
   "cell_type": "code",
   "execution_count": 152,
   "metadata": {},
   "outputs": [],
   "source": [
    "import matplotlib.pyplot as plt\n",
    "import numpy as np\n",
    "from scipy.spatial import Voronoi, voronoi_plot_2d\n",
    "import random\n",
    "import sys\n",
    "import torch\n",
    "import cv2\n",
    "import torchvision.transforms as transforms\n",
    "from geovoronoi import voronoi_regions_from_coords\n",
    "from shapely.geometry import Polygon, mapping\n",
    "from shapely.ops import cascaded_union, unary_union\n",
    "import geopandas as gpd\n",
    "from geovoronoi.plotting import subplot_for_map, plot_voronoi_polys_with_points_in_area, plot_line, plot_polygon_collection_with_color, plot_voronoi_polys, plot_points"
   ]
  },
  {
   "cell_type": "code",
   "execution_count": 87,
   "metadata": {},
   "outputs": [],
   "source": [
    "# !{sys.executable} -m pip install torchvision.transform"
   ]
  },
  {
   "cell_type": "code",
   "execution_count": 121,
   "metadata": {},
   "outputs": [],
   "source": [
    "def vor_reg_creator(img_height, img_width, coords):\n",
    "    area_max_lon = img_width\n",
    "    area_min_lon = 0\n",
    "    area_max_lat = img_height\n",
    "    area_min_lat = 0\n",
    "\n",
    "    lat_point_list = [area_min_lat, area_max_lat,area_max_lat,area_min_lat]\n",
    "    lon_point_list = [area_min_lon, area_min_lon, area_max_lon, area_max_lon]\n",
    "\n",
    "    polygon_geom = Polygon(zip(lon_point_list, lat_point_list))\n",
    "    boundary = gpd.GeoDataFrame()\n",
    "    boundary = boundary.append({'geometry': polygon_geom}, ignore_index=True)\n",
    "\n",
    "    boundary.crs = {'init' :'epsg:3395'}\n",
    "    boundary_shape = unary_union(boundary.geometry)\n",
    "    \n",
    "    region_polys, region_pts = voronoi_regions_from_coords(np.array(tuple(coords)), boundary_shape)\n",
    "    return region_polys, region_pts, boundary_shape"
   ]
  },
  {
   "cell_type": "code",
   "execution_count": 144,
   "metadata": {},
   "outputs": [],
   "source": [
    "def vor_plotting(coords, rand_point_no, region_polys, boundary_shape, img_width, img_height, line_width, line_color, img_no):\n",
    "    fig, ax = subplot_for_map(figsize=(img_height/120, img_width/120))\n",
    "    crds = np.array(tuple(coords))\n",
    "    for point_no in range(rand_point_no):\n",
    "        points = []\n",
    "        for p_idx in range(len(region_polys[point_no].exterior.coords.xy[0])):\n",
    "            points.append([region_polys[point_no].exterior.coords.xy[0][p_idx], region_polys[point_no].exterior.coords.xy[1][p_idx]])\n",
    "        points = np.array(tuple(points))\n",
    "        plot_line(ax, points, linewidth=line_width, color=line_color)\n",
    "    plot_voronoi_polys_with_points_in_area(ax, boundary_shape, region_polys, crds, points_color='white', voronoi_color='white', voronoi_edgecolor='blue')\n",
    "    plt.title('Image {}'.format(img_no+1))\n",
    "    plt.xlim(0, img_width)\n",
    "    plt.ylim(0, img_height)\n",
    "    #plt.show()\n",
    "    plt.savefig('Image {}'.format(img_no+1)+'.png', dpi=120, format='png')\n",
    "    plt.close()"
   ]
  },
  {
   "cell_type": "code",
   "execution_count": 145,
   "metadata": {},
   "outputs": [],
   "source": [
    "def vor_img_creator_trial(total_img, rand_point_no, img_height, img_width):\n",
    "    for img_no in range(total_img):\n",
    "        vor_arr = []\n",
    "        for point_no in range(rand_point_no):\n",
    "            y_axis = random.uniform(0.0, img_height)\n",
    "            x_axis = random.uniform(0.0, img_width)\n",
    "            vor_arr.append([x_axis, y_axis])\n",
    "        vor = Voronoi(vor_arr)\n",
    "        fig = voronoi_plot_2d(vor)\n",
    "        plt.title('Image {}'.format(img_no))\n",
    "        plt.xlim(0, img_width)\n",
    "        plt.ylim(0, img_height)\n",
    "        plt.savefig('Image {}'.format(img_no)+'.png')\n",
    "        plt.close()"
   ]
  },
  {
   "cell_type": "code",
   "execution_count": 146,
   "metadata": {},
   "outputs": [],
   "source": [
    "def vor_bw_img_creator(total_img, rand_point_no, img_height, img_width, line_width, line_color):\n",
    "    for img_no in range(total_img):\n",
    "        coords = []\n",
    "        for point_no in range(rand_point_no):\n",
    "            y_axis = random.uniform(0.0, img_height)\n",
    "            x_axis = random.uniform(0.0, img_width)\n",
    "            coords.append([x_axis, y_axis])\n",
    "        region_polys, region_pts, boundary_shape = vor_reg_creator(img_height, img_width, coords)\n",
    "        vor_plotting(coords, rand_point_no, region_polys, boundary_shape, img_width, img_height, line_width, line_color, img_no)"
   ]
  },
  {
   "cell_type": "code",
   "execution_count": 200,
   "metadata": {},
   "outputs": [],
   "source": [
    "vor_bw_img_creator(3, 8, 30, 45, 2, 'black')"
   ]
  },
  {
   "cell_type": "code",
   "execution_count": 201,
   "metadata": {},
   "outputs": [],
   "source": [
    "def img_to_tensor_bw(img, img_height, img_width):\n",
    "    image = cv2.imread(img)\n",
    "    image = cv2.cvtColor(image, cv2.COLOR_RGB2GRAY).reshape(img_width, img_height, 1)\n",
    "    transform = transforms.Compose([transforms.ToTensor()])\n",
    "    tensor = transform(image)\n",
    "    return tensor"
   ]
  },
  {
   "cell_type": "code",
   "execution_count": 204,
   "metadata": {},
   "outputs": [],
   "source": [
    "def tensor_out_bw(total_img, img_height, img_width):\n",
    "    output = img_to_tensor_bw('Image {}'.format(1)+'.png', img_height, img_width)\n",
    "    for idx in range(total_img-1):\n",
    "        output = torch.cat((output, img_to_tensor_bw('Image {}'.format(idx+2)+'.png', img_height, img_width)))\n",
    "    output = output.reshape(total_img, 1, img_width, img_height)\n",
    "    return output"
   ]
  },
  {
   "cell_type": "code",
   "execution_count": 206,
   "metadata": {},
   "outputs": [
    {
     "name": "stdout",
     "output_type": "stream",
     "text": [
      "torch.Size([3, 1, 45, 30])\n"
     ]
    }
   ],
   "source": [
    "output = tensor_out_bw(3, 30, 45)\n",
    "print(output.shape)"
   ]
  },
  {
   "cell_type": "code",
   "execution_count": 58,
   "metadata": {},
   "outputs": [],
   "source": [
    "img_width = 20\n",
    "img_height = 10\n",
    "rand_point_no = 8\n",
    "line_width = 2\n",
    "line_color = 'blue'\n",
    "coords = []\n",
    "for point_no in range(rand_point_no):\n",
    "    y_axis = random.uniform(0.0, img_height)\n",
    "    x_axis = random.uniform(0.0, img_width)\n",
    "    coords.append([x_axis, y_axis])"
   ]
  },
  {
   "cell_type": "code",
   "execution_count": 59,
   "metadata": {},
   "outputs": [],
   "source": [
    "area_max_lon = img_width\n",
    "area_min_lon = 0\n",
    "area_max_lat = img_height\n",
    "area_min_lat = 0\n",
    "\n",
    "lat_point_list = [area_min_lat, area_max_lat,area_max_lat,area_min_lat]\n",
    "lon_point_list = [area_min_lon, area_min_lon, area_max_lon, area_max_lon]\n",
    "\n",
    "polygon_geom = Polygon(zip(lon_point_list, lat_point_list))\n",
    "boundary = gpd.GeoDataFrame()\n",
    "boundary = boundary.append({'geometry': polygon_geom}, ignore_index=True)\n",
    "\n",
    "boundary.crs = {'init' :'epsg:3395'}\n",
    "boundary_shape = unary_union(boundary.geometry)\n",
    "\n",
    "region_polys, region_pts = voronoi_regions_from_coords(np.array(tuple(coords)), boundary_shape)"
   ]
  },
  {
   "cell_type": "code",
   "execution_count": 62,
   "metadata": {},
   "outputs": [
    {
     "name": "stderr",
     "output_type": "stream",
     "text": [
      "C:\\Users\\CEM\\miniconda3\\lib\\site-packages\\geovoronoi\\plotting.py:348: FutureWarning: Using a non-tuple sequence for multidimensional indexing is deprecated; use `arr[tuple(seq)]` instead of `arr[seq]`. In the future this will be interpreted as an array index, `arr[np.array(seq)]`, which will result either in an error or a different result.\n",
      "  color_values = color_values[np.nonzero(geoms_indices[multi_indices][..., np.newaxis] == color_indices)[1]]\n"
     ]
    },
    {
     "ename": "ValueError",
     "evalue": "Unknown geometry type: featurecollection",
     "output_type": "error",
     "traceback": [
      "\u001b[1;31m---------------------------------------------------------------------------\u001b[0m",
      "\u001b[1;31mValueError\u001b[0m                                Traceback (most recent call last)",
      "\u001b[1;32m<ipython-input-62-c57107ef50e3>\u001b[0m in \u001b[0;36m<module>\u001b[1;34m\u001b[0m\n\u001b[0;32m      9\u001b[0m     \u001b[0mplot_line\u001b[0m\u001b[1;33m(\u001b[0m\u001b[0max\u001b[0m\u001b[1;33m,\u001b[0m \u001b[0mpoints\u001b[0m\u001b[1;33m,\u001b[0m \u001b[0mlinewidth\u001b[0m\u001b[1;33m=\u001b[0m\u001b[0mline_width\u001b[0m\u001b[1;33m,\u001b[0m \u001b[0mcolor\u001b[0m\u001b[1;33m=\u001b[0m\u001b[0mline_color\u001b[0m\u001b[1;33m)\u001b[0m\u001b[1;33m\u001b[0m\u001b[1;33m\u001b[0m\u001b[0m\n\u001b[0;32m     10\u001b[0m \u001b[0mplot_voronoi_polys_with_points_in_area\u001b[0m\u001b[1;33m(\u001b[0m\u001b[0max\u001b[0m\u001b[1;33m,\u001b[0m \u001b[0mboundary_shape\u001b[0m\u001b[1;33m,\u001b[0m \u001b[0mregion_polys\u001b[0m\u001b[1;33m,\u001b[0m \u001b[0mcrds\u001b[0m\u001b[1;33m,\u001b[0m \u001b[0mregion_pts\u001b[0m\u001b[1;33m)\u001b[0m\u001b[1;33m\u001b[0m\u001b[1;33m\u001b[0m\u001b[0m\n\u001b[1;32m---> 11\u001b[1;33m \u001b[0mplot_polygon_collection_with_color\u001b[0m\u001b[1;33m(\u001b[0m\u001b[0max\u001b[0m\u001b[1;33m,\u001b[0m \u001b[1;33m[\u001b[0m\u001b[0mboundary\u001b[0m\u001b[1;33m]\u001b[0m\u001b[1;33m,\u001b[0m \u001b[0mcolor\u001b[0m\u001b[1;33m=\u001b[0m\u001b[1;34m'yellow'\u001b[0m\u001b[1;33m,\u001b[0m \u001b[0medgecolor\u001b[0m\u001b[1;33m=\u001b[0m\u001b[1;34m'blue'\u001b[0m\u001b[1;33m)\u001b[0m\u001b[1;33m\u001b[0m\u001b[1;33m\u001b[0m\u001b[0m\n\u001b[0m\u001b[0;32m     12\u001b[0m \u001b[0mplt\u001b[0m\u001b[1;33m.\u001b[0m\u001b[0mtitle\u001b[0m\u001b[1;33m(\u001b[0m\u001b[1;34m'Image {}'\u001b[0m\u001b[1;33m.\u001b[0m\u001b[0mformat\u001b[0m\u001b[1;33m(\u001b[0m\u001b[1;36m1\u001b[0m\u001b[1;33m)\u001b[0m\u001b[1;33m)\u001b[0m\u001b[1;33m\u001b[0m\u001b[1;33m\u001b[0m\u001b[0m\n\u001b[0;32m     13\u001b[0m \u001b[0mplt\u001b[0m\u001b[1;33m.\u001b[0m\u001b[0mxlim\u001b[0m\u001b[1;33m(\u001b[0m\u001b[1;36m0\u001b[0m\u001b[1;33m,\u001b[0m \u001b[0mimg_width\u001b[0m\u001b[1;33m)\u001b[0m\u001b[1;33m\u001b[0m\u001b[1;33m\u001b[0m\u001b[0m\n",
      "\u001b[1;32m~\\miniconda3\\lib\\site-packages\\geovoronoi\\plotting.py\u001b[0m in \u001b[0;36mplot_polygon_collection_with_color\u001b[1;34m(ax, geoms, color, **kwargs)\u001b[0m\n\u001b[0;32m    332\u001b[0m             \u001b[0mgeoms_indices\u001b[0m \u001b[1;33m=\u001b[0m \u001b[0mnp\u001b[0m\u001b[1;33m.\u001b[0m\u001b[0marange\u001b[0m\u001b[1;33m(\u001b[0m\u001b[0mlen\u001b[0m\u001b[1;33m(\u001b[0m\u001b[0mgeoms\u001b[0m\u001b[1;33m)\u001b[0m\u001b[1;33m)\u001b[0m\u001b[1;33m\u001b[0m\u001b[1;33m\u001b[0m\u001b[0m\n\u001b[0;32m    333\u001b[0m             \u001b[0mgeoms_values\u001b[0m \u001b[1;33m=\u001b[0m \u001b[0mgeoms\u001b[0m\u001b[1;33m\u001b[0m\u001b[1;33m\u001b[0m\u001b[0m\n\u001b[1;32m--> 334\u001b[1;33m         \u001b[0mgeoms\u001b[0m \u001b[1;33m=\u001b[0m \u001b[0mGeoSeries\u001b[0m\u001b[1;33m(\u001b[0m\u001b[0mgeoms_values\u001b[0m\u001b[1;33m)\u001b[0m\u001b[1;33m\u001b[0m\u001b[1;33m\u001b[0m\u001b[0m\n\u001b[0m\u001b[0;32m    335\u001b[0m     \u001b[1;32melse\u001b[0m\u001b[1;33m:\u001b[0m\u001b[1;33m\u001b[0m\u001b[1;33m\u001b[0m\u001b[0m\n\u001b[0;32m    336\u001b[0m         \u001b[0mgeoms_indices\u001b[0m \u001b[1;33m=\u001b[0m \u001b[0mgeoms\u001b[0m\u001b[1;33m.\u001b[0m\u001b[0mindex\u001b[0m\u001b[1;33m.\u001b[0m\u001b[0mto_numpy\u001b[0m\u001b[1;33m(\u001b[0m\u001b[1;33m)\u001b[0m\u001b[1;33m\u001b[0m\u001b[1;33m\u001b[0m\u001b[0m\n",
      "\u001b[1;32m~\\miniconda3\\lib\\site-packages\\geopandas\\geoseries.py\u001b[0m in \u001b[0;36m__new__\u001b[1;34m(cls, data, index, crs, **kwargs)\u001b[0m\n\u001b[0;32m    131\u001b[0m             \u001b[1;31m# try to convert to GeometryArray, if fails return plain Series\u001b[0m\u001b[1;33m\u001b[0m\u001b[1;33m\u001b[0m\u001b[1;33m\u001b[0m\u001b[0m\n\u001b[0;32m    132\u001b[0m             \u001b[1;32mtry\u001b[0m\u001b[1;33m:\u001b[0m\u001b[1;33m\u001b[0m\u001b[1;33m\u001b[0m\u001b[0m\n\u001b[1;32m--> 133\u001b[1;33m                 \u001b[0mdata\u001b[0m \u001b[1;33m=\u001b[0m \u001b[0mfrom_shapely\u001b[0m\u001b[1;33m(\u001b[0m\u001b[0ms\u001b[0m\u001b[1;33m.\u001b[0m\u001b[0mvalues\u001b[0m\u001b[1;33m)\u001b[0m\u001b[1;33m\u001b[0m\u001b[1;33m\u001b[0m\u001b[0m\n\u001b[0m\u001b[0;32m    134\u001b[0m             \u001b[1;32mexcept\u001b[0m \u001b[0mTypeError\u001b[0m\u001b[1;33m:\u001b[0m\u001b[1;33m\u001b[0m\u001b[1;33m\u001b[0m\u001b[0m\n\u001b[0;32m    135\u001b[0m                 \u001b[0mwarnings\u001b[0m\u001b[1;33m.\u001b[0m\u001b[0mwarn\u001b[0m\u001b[1;33m(\u001b[0m\u001b[0m_SERIES_WARNING_MSG\u001b[0m\u001b[1;33m,\u001b[0m \u001b[0mFutureWarning\u001b[0m\u001b[1;33m,\u001b[0m \u001b[0mstacklevel\u001b[0m\u001b[1;33m=\u001b[0m\u001b[1;36m2\u001b[0m\u001b[1;33m)\u001b[0m\u001b[1;33m\u001b[0m\u001b[1;33m\u001b[0m\u001b[0m\n",
      "\u001b[1;32m~\\miniconda3\\lib\\site-packages\\geopandas\\array.py\u001b[0m in \u001b[0;36mfrom_shapely\u001b[1;34m(data)\u001b[0m\n\u001b[0;32m     75\u001b[0m             \u001b[0mout\u001b[0m\u001b[1;33m.\u001b[0m\u001b[0mappend\u001b[0m\u001b[1;33m(\u001b[0m\u001b[0mgeom\u001b[0m\u001b[1;33m)\u001b[0m\u001b[1;33m\u001b[0m\u001b[1;33m\u001b[0m\u001b[0m\n\u001b[0;32m     76\u001b[0m         \u001b[1;32melif\u001b[0m \u001b[0mhasattr\u001b[0m\u001b[1;33m(\u001b[0m\u001b[0mgeom\u001b[0m\u001b[1;33m,\u001b[0m \u001b[1;34m\"__geo_interface__\"\u001b[0m\u001b[1;33m)\u001b[0m\u001b[1;33m:\u001b[0m\u001b[1;33m\u001b[0m\u001b[1;33m\u001b[0m\u001b[0m\n\u001b[1;32m---> 77\u001b[1;33m             \u001b[0mgeom\u001b[0m \u001b[1;33m=\u001b[0m \u001b[0mshapely\u001b[0m\u001b[1;33m.\u001b[0m\u001b[0mgeometry\u001b[0m\u001b[1;33m.\u001b[0m\u001b[0masShape\u001b[0m\u001b[1;33m(\u001b[0m\u001b[0mgeom\u001b[0m\u001b[1;33m)\u001b[0m\u001b[1;33m\u001b[0m\u001b[1;33m\u001b[0m\u001b[0m\n\u001b[0m\u001b[0;32m     78\u001b[0m             \u001b[0mout\u001b[0m\u001b[1;33m.\u001b[0m\u001b[0mappend\u001b[0m\u001b[1;33m(\u001b[0m\u001b[0mgeom\u001b[0m\u001b[1;33m)\u001b[0m\u001b[1;33m\u001b[0m\u001b[1;33m\u001b[0m\u001b[0m\n\u001b[0;32m     79\u001b[0m         \u001b[1;32melif\u001b[0m \u001b[0m_isna\u001b[0m\u001b[1;33m(\u001b[0m\u001b[0mgeom\u001b[0m\u001b[1;33m)\u001b[0m\u001b[1;33m:\u001b[0m\u001b[1;33m\u001b[0m\u001b[1;33m\u001b[0m\u001b[0m\n",
      "\u001b[1;32m~\\miniconda3\\lib\\site-packages\\shapely\\geometry\\geo.py\u001b[0m in \u001b[0;36masShape\u001b[1;34m(context)\u001b[0m\n\u001b[0;32m     76\u001b[0m         \u001b[1;32mreturn\u001b[0m \u001b[0mGeometryCollection\u001b[0m\u001b[1;33m(\u001b[0m\u001b[0mgeoms\u001b[0m\u001b[1;33m)\u001b[0m\u001b[1;33m\u001b[0m\u001b[1;33m\u001b[0m\u001b[0m\n\u001b[0;32m     77\u001b[0m     \u001b[1;32melse\u001b[0m\u001b[1;33m:\u001b[0m\u001b[1;33m\u001b[0m\u001b[1;33m\u001b[0m\u001b[0m\n\u001b[1;32m---> 78\u001b[1;33m         \u001b[1;32mraise\u001b[0m \u001b[0mValueError\u001b[0m\u001b[1;33m(\u001b[0m\u001b[1;34m\"Unknown geometry type: %s\"\u001b[0m \u001b[1;33m%\u001b[0m \u001b[0mgeom_type\u001b[0m\u001b[1;33m)\u001b[0m\u001b[1;33m\u001b[0m\u001b[1;33m\u001b[0m\u001b[0m\n\u001b[0m\u001b[0;32m     79\u001b[0m \u001b[1;33m\u001b[0m\u001b[0m\n\u001b[0;32m     80\u001b[0m \u001b[1;32mdef\u001b[0m \u001b[0mmapping\u001b[0m\u001b[1;33m(\u001b[0m\u001b[0mob\u001b[0m\u001b[1;33m)\u001b[0m\u001b[1;33m:\u001b[0m\u001b[1;33m\u001b[0m\u001b[1;33m\u001b[0m\u001b[0m\n",
      "\u001b[1;31mValueError\u001b[0m: Unknown geometry type: featurecollection"
     ]
    },
    {
     "data": {
      "image/png": "[encoded data removed]",
      "text/plain": [
       "<Figure size 432x288 with 1 Axes>"
      ]
     },
     "metadata": {
      "needs_background": "light"
     },
     "output_type": "display_data"
    }
   ],
   "source": [
    "fig, ax = subplot_for_map()\n",
    "crds = np.array(tuple(coords))\n",
    "\n",
    "for point_no in range(rand_point_no):\n",
    "    points = []\n",
    "    for p_idx in range(len(region_polys[point_no].exterior.coords.xy[0])):\n",
    "        points.append([region_polys[point_no].exterior.coords.xy[0][p_idx], region_polys[point_no].exterior.coords.xy[1][p_idx]])\n",
    "    points = np.array(tuple(points))\n",
    "    plot_line(ax, points, linewidth=line_width, color=line_color)\n",
    "plot_voronoi_polys_with_points_in_area(ax, boundary_shape, region_polys, crds, region_pts)\n",
    "plot_polygon_collection_with_color(ax, [boundary], color='yellow', edgecolor='blue')\n",
    "plt.title('Image {}'.format(1))\n",
    "plt.xlim(0, img_width)\n",
    "plt.ylim(0, img_height)\n",
    "plt.show()"
   ]
  },
  {
   "cell_type": "code",
   "execution_count": null,
   "metadata": {},
   "outputs": [],
   "source": []
  }
 ],
 "metadata": {
  "kernelspec": {
   "display_name": "Python 3",
   "language": "python",
   "name": "python3"
  },
  "language_info": {
   "codemirror_mode": {
    "name": "ipython",
    "version": 3
   },
   "file_extension": ".py",
   "mimetype": "text/x-python",
   "name": "python",
   "nbconvert_exporter": "python",
   "pygments_lexer": "ipython3",
   "version": "3.8.5"
  }
 },
 "nbformat": 4,
 "nbformat_minor": 4
}
